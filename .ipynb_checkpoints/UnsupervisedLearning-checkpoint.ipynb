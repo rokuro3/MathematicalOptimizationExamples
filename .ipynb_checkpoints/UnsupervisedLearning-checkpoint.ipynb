{
 "cells": [
  {
   "cell_type": "code",
   "execution_count": 1,
   "metadata": {},
   "outputs": [],
   "source": [
    "#Unsupervised Learning\n",
    "import numpy as np\n",
    "from sklearn.datasets import make_blobs\n",
    "import matplotlib.pyplot as plt\n",
    "%matplotlib inline"
   ]
  },
  {
   "cell_type": "code",
   "execution_count": 10,
   "metadata": {},
   "outputs": [
    {
     "data": {
      "text/plain": [
       "(array([ 3.,  3., 11., 19., 10.,  6., 13., 16., 14.,  5.]),\n",
       " array([-3.02193816, -1.61011709, -0.19829602,  1.21352506,  2.62534613,\n",
       "         4.0371672 ,  5.44898827,  6.86080935,  8.27263042,  9.68445149,\n",
       "        11.09627257]),\n",
       " <a list of 10 Patch objects>)"
      ]
     },
     "execution_count": 10,
     "metadata": {},
     "output_type": "execute_result"
    },
    {
     "data": {
      "image/png": "[encoded data removed]",
      "text/plain": [
       "<Figure size 432x288 with 1 Axes>"
      ]
     },
     "metadata": {
      "needs_background": "light"
     },
     "output_type": "display_data"
    }
   ],
   "source": [
    "X= make_blobs(random_state=20, n_features=1, centers=2,cluster_std=1.5)\n",
    "plt.hist(X[0])"
   ]
  },
  {
   "cell_type": "code",
   "execution_count": null,
   "metadata": {},
   "outputs": [],
   "source": []
  },
  {
   "cell_type": "code",
   "execution_count": 9,
   "metadata": {},
   "outputs": [
    {
     "name": "stdout",
     "output_type": "stream",
     "text": [
      "[[ 2.60216046]\n",
      " [ 0.1057468 ]\n",
      " [ 8.01156326]\n",
      " [ 1.69632382]\n",
      " [ 2.73316715]\n",
      " [ 6.67002823]\n",
      " [ 3.16191554]\n",
      " [ 3.79929954]\n",
      " [ 7.59506992]\n",
      " [10.12538513]\n",
      " [ 2.24780754]\n",
      " [ 2.5532206 ]\n",
      " [ 4.09689568]\n",
      " [ 8.10245748]\n",
      " [ 2.13118878]\n",
      " [ 3.44281441]\n",
      " [ 6.4620717 ]\n",
      " [ 7.34747352]\n",
      " [ 0.36020908]\n",
      " [ 1.59908996]\n",
      " [ 8.16970851]\n",
      " [ 6.51095058]\n",
      " [ 9.23991528]\n",
      " [ 8.74586726]\n",
      " [ 3.33927904]\n",
      " [ 1.25488011]\n",
      " [ 2.37216866]\n",
      " [ 9.24127358]\n",
      " [ 9.90641866]\n",
      " [ 7.45395888]\n",
      " [ 8.49341805]\n",
      " [ 9.07972145]\n",
      " [ 8.685379  ]\n",
      " [ 8.12534596]\n",
      " [ 0.43437629]\n",
      " [ 4.85237302]\n",
      " [ 9.59742459]\n",
      " [10.17599003]\n",
      " [ 5.72569515]\n",
      " [10.20937179]\n",
      " [ 8.78568696]\n",
      " [ 1.0224997 ]\n",
      " [ 7.15615569]\n",
      " [ 6.7112354 ]\n",
      " [ 5.7915017 ]\n",
      " [ 7.9565374 ]\n",
      " [ 2.50277188]\n",
      " [ 4.11406485]\n",
      " [ 5.23139085]\n",
      " [ 7.23059819]\n",
      " [ 3.7903103 ]\n",
      " [ 5.73069698]\n",
      " [ 2.65244184]\n",
      " [ 2.2989208 ]\n",
      " [ 0.57459084]\n",
      " [ 1.50964687]\n",
      " [ 3.17182005]\n",
      " [ 8.18803189]\n",
      " [ 7.33991742]\n",
      " [ 0.29489446]\n",
      " [ 3.76178333]\n",
      " [ 7.61179301]\n",
      " [ 5.10207848]\n",
      " [-1.75227684]\n",
      " [ 8.6438909 ]\n",
      " [ 5.82927444]\n",
      " [-2.29393185]\n",
      " [-0.56403508]\n",
      " [ 8.99077774]\n",
      " [ 4.07970856]\n",
      " [ 2.41965277]\n",
      " [ 1.39760787]\n",
      " [ 8.92391981]\n",
      " [ 0.85915399]\n",
      " [-3.02193816]\n",
      " [ 7.12149586]\n",
      " [ 6.67211133]\n",
      " [ 1.95578355]\n",
      " [ 9.64291284]\n",
      " [ 3.56938293]\n",
      " [ 6.37002106]\n",
      " [11.09627257]\n",
      " [ 5.51002228]\n",
      " [ 2.25703603]\n",
      " [-0.15663797]\n",
      " [ 2.51726128]\n",
      " [-0.65686931]\n",
      " [ 7.62478287]\n",
      " [ 0.05782621]\n",
      " [ 1.56756995]\n",
      " [ 7.1845569 ]\n",
      " [-1.33780706]\n",
      " [ 9.67766208]\n",
      " [ 0.49906412]\n",
      " [ 2.37223772]\n",
      " [ 9.4385044 ]\n",
      " [ 6.54590882]\n",
      " [ 6.52924754]\n",
      " [ 2.2440722 ]\n",
      " [ 0.13536714]]\n"
     ]
    },
    {
     "data": {
      "text/plain": [
       "(array([ 3.,  3., 11., 19., 10.,  6., 13., 16., 14.,  5.]),\n",
       " array([-3.02193816, -1.61011709, -0.19829602,  1.21352506,  2.62534613,\n",
       "         4.0371672 ,  5.44898827,  6.86080935,  8.27263042,  9.68445149,\n",
       "        11.09627257]),\n",
       " <a list of 10 Patch objects>)"
      ]
     },
     "execution_count": 9,
     "metadata": {},
     "output_type": "execute_result"
    },
    {
     "data": {
      "image/png": "[encoded data removed]",
      "text/plain": [
       "<Figure size 432x288 with 1 Axes>"
      ]
     },
     "metadata": {
      "needs_background": "light"
     },
     "output_type": "display_data"
    }
   ],
   "source": []
  },
  {
   "cell_type": "code",
   "execution_count": null,
   "metadata": {},
   "outputs": [],
   "source": []
  },
  {
   "cell_type": "code",
   "execution_count": null,
   "metadata": {},
   "outputs": [],
   "source": []
  },
  {
   "cell_type": "code",
   "execution_count": null,
   "metadata": {},
   "outputs": [],
   "source": []
  },
  {
   "cell_type": "code",
   "execution_count": null,
   "metadata": {},
   "outputs": [],
   "source": []
  },
  {
   "cell_type": "code",
   "execution_count": null,
   "metadata": {},
   "outputs": [],
   "source": []
  },
  {
   "cell_type": "code",
   "execution_count": null,
   "metadata": {},
   "outputs": [],
   "source": []
  }
 ],
 "metadata": {
  "kernelspec": {
   "display_name": "Python 3",
   "language": "python",
   "name": "python3"
  },
  "language_info": {
   "codemirror_mode": {
    "name": "ipython",
    "version": 3
   },
   "file_extension": ".py",
   "mimetype": "text/x-python",
   "name": "python",
   "nbconvert_exporter": "python",
   "pygments_lexer": "ipython3",
   "version": "3.5.6"
  }
 },
 "nbformat": 4,
 "nbformat_minor": 2
}
